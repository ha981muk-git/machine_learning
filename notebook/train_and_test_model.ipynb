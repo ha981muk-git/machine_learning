{
 "cells": [],
 "metadata": {
  "kernelspec": {
   "display_name": "Python 3",
   "language": "python",
   "name": "python3"
  },
  "language_info": {
   "codemirror_mode": {
    "name": "ipython",
    "version": 2
   },
   "file_extension": ".py",
   "mimetype": "text/x-python",
   "name": "python",
   "nbconvert_exporter": "python",
   "pygments_lexer": "ipython2",
   "version": "2.7.6"
  },
  "pycharm": {
   "stem_cell": {
    "cell_type": "raw",
    "source": [
     "%matplotlib notebook\n",
     "\n",
     "from pathlib import Path\n",
     "from data.data_reader import preprocess\n",
     "\n",
     "\n",
     "raw_data_file_path =  '/home/ha981muk/PycharmProjects/mlss21/pCt_Chips/data/raw/pctdata.csv'\n",
     "clean_data_file_path = '//home/ha981muk/PycharmProjects/mlss21/pCt_Chips/data/clean/clean_pctdata.csv'\n",
     "preprocess(raw_data_file_path, clean_data_file_path)"
    ],
    "metadata": {
     "collapsed": false
    }
   }
  }
 },
 "nbformat": 4,
 "nbformat_minor": 0
}